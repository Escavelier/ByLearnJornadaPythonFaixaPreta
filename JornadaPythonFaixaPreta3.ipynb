{
  "nbformat": 4,
  "nbformat_minor": 0,
  "metadata": {
    "colab": {
      "name": "JornadaPythonFaixaPreta3",
      "provenance": [],
      "collapsed_sections": []
    },
    "kernelspec": {
      "name": "python3",
      "display_name": "Python 3"
    }
  },
  "cells": [
    {
      "cell_type": "markdown",
      "metadata": {
        "id": "HZFqkjqecvWf"
      },
      "source": [
        "# Condicionais\n",
        "\n",
        "Principal forma de atribuir uma lógica ao seu código.\n",
        "\n",
        "Basicamente é uma tomada de decisão caso a condição seja verdadeira.\n",
        "\n",
        "Ex:\n",
        "\n",
        "- Se o dia estiver quente:\n",
        "  - Vou tomar um sorverte\n",
        "  - Vou para a praia\n",
        "\n",
        "- Do contrário (se não):\n",
        "  - Tomar um chocolate quente\n",
        "  - Maratonar Netflix"
      ]
    },
    {
      "cell_type": "code",
      "metadata": {
        "id": "tV2vohTPdWr8",
        "outputId": "b98f683f-f9c2-41d3-efd3-732a3dcbb21f",
        "colab": {
          "base_uri": "https://localhost:8080/"
        }
      },
      "source": [
        "temperatura = 'quente'\n",
        "\n",
        "print(temperatura)"
      ],
      "execution_count": null,
      "outputs": [
        {
          "output_type": "stream",
          "text": [
            "quente\n"
          ],
          "name": "stdout"
        }
      ]
    },
    {
      "cell_type": "code",
      "metadata": {
        "id": "fnFMTy0Cdfh2",
        "outputId": "c0897372-c2c8-4a24-ac44-ecbc8614af10",
        "colab": {
          "base_uri": "https://localhost:8080/"
        }
      },
      "source": [
        "if temperatura == 'frio':\n",
        "  print('Vou tomar um sorvete de Flocos')\n",
        "  print('Vou para a praia (mentira, aqui não tem praia)')\n",
        "else:\n",
        "  print('Tomar um chocolate quente')\n",
        "  print('Vou assistir Cobra Kai')"
      ],
      "execution_count": null,
      "outputs": [
        {
          "output_type": "stream",
          "text": [
            "Tomar um chocolate quente\n",
            "Vou assistir Cobra Kai\n"
          ],
          "name": "stdout"
        }
      ]
    },
    {
      "cell_type": "code",
      "metadata": {
        "id": "SvVWPywseBIe",
        "outputId": "a245265c-80ce-4744-de2b-f4667bdda203",
        "colab": {
          "base_uri": "https://localhost:8080/"
        }
      },
      "source": [
        "horario = 'noite'\n",
        "\n",
        "if horario == 'manhã':\n",
        "  print('O sol está quente')\n",
        "elif horario == 'tarde':\n",
        "  print('O por do sol está chegando')\n",
        "else:\n",
        "  print('A lua está linda')\n",
        "  print('Está na hora da jornada Python Faixa Preta')"
      ],
      "execution_count": null,
      "outputs": [
        {
          "output_type": "stream",
          "text": [
            "A lua está linda\n",
            "Está na hora da jornada Python Faixa Preta\n"
          ],
          "name": "stdout"
        }
      ]
    },
    {
      "cell_type": "code",
      "metadata": {
        "id": "wbD7P8mresAn",
        "outputId": "6c573261-3b5d-44f2-ceb5-b7a10210c12c",
        "colab": {
          "base_uri": "https://localhost:8080/"
        }
      },
      "source": [
        "idade = 21\n",
        "\n",
        "if idade >=18:\n",
        "  print('Você já pode beber, mas com moderação!')\n",
        "else:\n",
        "  print('Você não pode beber!')"
      ],
      "execution_count": null,
      "outputs": [
        {
          "output_type": "stream",
          "text": [
            "Você já pode beber, mas com moderação!\n"
          ],
          "name": "stdout"
        }
      ]
    },
    {
      "cell_type": "code",
      "metadata": {
        "id": "Bd9cF6e7fOyu",
        "outputId": "7d8ecf8e-18b9-4d41-dc03-958296ff93b7",
        "colab": {
          "base_uri": "https://localhost:8080/"
        }
      },
      "source": [
        "temperatura = 20\n",
        "\n",
        "if temperatura <= 30:\n",
        "  print('Aceitável')\n",
        "else:\n",
        "  print('Socorro, está muito quente aqui!')"
      ],
      "execution_count": null,
      "outputs": [
        {
          "output_type": "stream",
          "text": [
            "Aceitável\n"
          ],
          "name": "stdout"
        }
      ]
    },
    {
      "cell_type": "code",
      "metadata": {
        "id": "Nzq7ElTBfiNg",
        "outputId": "a45bc86a-56f2-400c-c30c-878581ddfaad",
        "colab": {
          "base_uri": "https://localhost:8080/"
        }
      },
      "source": [
        "altura = 1.68\n",
        "\n",
        "if altura < 1.80:\n",
        "  print('O Caio é baixinho')\n",
        "else:\n",
        "  print('O Caio é alto')"
      ],
      "execution_count": null,
      "outputs": [
        {
          "output_type": "stream",
          "text": [
            "O Caio é baixinho\n"
          ],
          "name": "stdout"
        }
      ]
    },
    {
      "cell_type": "code",
      "metadata": {
        "id": "o2tGSPfLfudY",
        "outputId": "b39201c8-a0ba-4cbd-c78c-9ff162887226",
        "colab": {
          "base_uri": "https://localhost:8080/"
        }
      },
      "source": [
        "quente = True\n",
        "gosta_praia = False\n",
        "\n",
        "if quente == True:\n",
        "  print('Está quente')"
      ],
      "execution_count": null,
      "outputs": [
        {
          "output_type": "stream",
          "text": [
            "Está quente\n"
          ],
          "name": "stdout"
        }
      ]
    },
    {
      "cell_type": "code",
      "metadata": {
        "id": "JOaU9ne3gKAO",
        "outputId": "ed8bcc07-f158-4293-89fc-58bea63cf318",
        "colab": {
          "base_uri": "https://localhost:8080/"
        }
      },
      "source": [
        "quente = False\n",
        "gosta_praia = False\n",
        "gosta_chocolate_quente = True\n",
        "\n",
        "if quente == True:\n",
        "  print('Está quente')\n",
        "  if gosta_praia == True:\n",
        "    print('Vá para a praia')\n",
        "  else:\n",
        "    print('Não vá para a praia')\n",
        "else:\n",
        "  print('Está frio')\n",
        "  if gosta_chocolate_quente == True:\n",
        "    print('Tome chocolate quente')\n",
        "  else:\n",
        "    print('Não tome chocolate quente')"
      ],
      "execution_count": null,
      "outputs": [
        {
          "output_type": "stream",
          "text": [
            "Está frio\n",
            "Tome chocolate quente\n"
          ],
          "name": "stdout"
        }
      ]
    },
    {
      "cell_type": "code",
      "metadata": {
        "id": "0CYFOVmIga93",
        "outputId": "cea65d53-c5b5-4108-fc30-41316a94868c",
        "colab": {
          "base_uri": "https://localhost:8080/"
        }
      },
      "source": [
        "dia = input('qual é o dia atual? ')\n",
        "\n",
        "if dia == 'sábado':\n",
        "  print('É fim de semana :D')\n",
        "elif dia == 'domingo':\n",
        "  print('É fim de semana :D')\n",
        "else:\n",
        "  print('Não é fim de semana :(')"
      ],
      "execution_count": null,
      "outputs": [
        {
          "output_type": "stream",
          "text": [
            "qual é o dia atual? domingo\n",
            "É fim de semana :D\n"
          ],
          "name": "stdout"
        }
      ]
    },
    {
      "cell_type": "code",
      "metadata": {
        "id": "kJjSDp7phL3w",
        "outputId": "0f0d845d-466a-46d5-94dd-27c843ce8c3f",
        "colab": {
          "base_uri": "https://localhost:8080/"
        }
      },
      "source": [
        "# 1, 3, 6 e 10 => Válido\n",
        "# qualquer outro => Inválido\n",
        "\n",
        "numero = 8\n",
        "\n",
        "if numero == 1:\n",
        "  print('é válido')\n",
        "elif numero == 3:\n",
        "  print('é válido')\n",
        "elif numero == 6:\n",
        "  print('é válido')\n",
        "elif numero == 10:\n",
        "  print('é válido')\n",
        "else:\n",
        "  print('é inválido')"
      ],
      "execution_count": null,
      "outputs": [
        {
          "output_type": "stream",
          "text": [
            "é inválido\n"
          ],
          "name": "stdout"
        }
      ]
    },
    {
      "cell_type": "markdown",
      "metadata": {
        "id": "WYuvB-DHiJNb"
      },
      "source": [
        "# Operadores Lógicos\n",
        "\n",
        "Servem para fazer uma condição composta\n",
        "\n",
        "E => Ambas precisam ser verdade\n",
        "OU => Pelo menos UMA precisa ser verdade\n",
        "\n",
        "EX:\n",
        "  - Se for manhã E estiver sol\n",
        "  - Se for sábado OU domingo\n",
        "\n",
        "\n",
        "E => AND\n",
        "OU => OR"
      ]
    },
    {
      "cell_type": "code",
      "metadata": {
        "id": "C4kZumqHilmW",
        "outputId": "373cb9f9-6217-4344-8eee-7875c08ae616",
        "colab": {
          "base_uri": "https://localhost:8080/"
        }
      },
      "source": [
        "dia = input('qual é o dia atual? ')\n",
        "\n",
        "if dia == 'sábado' or dia == 'domingo':\n",
        "  print('É fim de semana :D')\n",
        "else:\n",
        "  print('Não é fim de semana :(')"
      ],
      "execution_count": null,
      "outputs": [
        {
          "output_type": "stream",
          "text": [
            "qual é o dia atual? sábado\n",
            "É fim de semana :D\n"
          ],
          "name": "stdout"
        }
      ]
    },
    {
      "cell_type": "code",
      "metadata": {
        "id": "waGQVl8Riya4",
        "outputId": "3db99491-f8d7-4952-8340-5133c702a95a",
        "colab": {
          "base_uri": "https://localhost:8080/"
        }
      },
      "source": [
        "# 1, 3, 6 e 10 => Válido\n",
        "# qualquer outro => Inválido\n",
        "\n",
        "numero = 8\n",
        "\n",
        "if numero == 1:\n",
        "  print('é válido')\n",
        "elif numero == 3:\n",
        "  print('é válido')\n",
        "elif numero == 6:\n",
        "  print('é válido')\n",
        "elif numero == 10:\n",
        "  print('é válido')\n",
        "else:\n",
        "  print('é inválido')\n",
        "\n",
        "  numero = 11\n",
        "\n",
        "  if numero == 1 or numero == 3 or numero == 6 or numero == 10:\n",
        "    print('é valido')\n",
        "  else:\n",
        "    print('é inválido')"
      ],
      "execution_count": null,
      "outputs": [
        {
          "output_type": "stream",
          "text": [
            "é inválido\n",
            "é inválido\n"
          ],
          "name": "stdout"
        }
      ]
    },
    {
      "cell_type": "code",
      "metadata": {
        "id": "8y1AAJQTjFqx",
        "outputId": "ad6d9cb6-c1d6-40e3-a32b-e4fbacf32adc",
        "colab": {
          "base_uri": "https://localhost:8080/"
        }
      },
      "source": [
        "horario = 'manhã'\n",
        "sol = True\n",
        "\n",
        "if horario == 'manhã' and sol == True:\n",
        "  print('Está uma manhã ensolarada')"
      ],
      "execution_count": null,
      "outputs": [
        {
          "output_type": "stream",
          "text": [
            "Está uma manhã ensolarada\n"
          ],
          "name": "stdout"
        }
      ]
    },
    {
      "cell_type": "code",
      "metadata": {
        "id": "lBJSkm8xjRJI",
        "outputId": "8467c4af-599e-4942-8884-a69480f5ae81",
        "colab": {
          "base_uri": "https://localhost:8080/"
        }
      },
      "source": [
        "meu_nome = 'Caio'\n",
        "nome = input('Digite seu nome:  ')\n",
        "\n",
        "sobrenome = 'Vinicius'\n",
        "meu_sobrenome = input('Digite seu sobrenome:  ')\n",
        "\n",
        "apelido = 'Escavelier'\n",
        "\n",
        "if nome == meu_nome and sobrenome == meu_sobrenome:\n",
        "  print('Você é o Caio Vinicius')\n",
        "else:\n",
        "  print('Você não é o Caio Vinicius')"
      ],
      "execution_count": null,
      "outputs": [
        {
          "output_type": "stream",
          "text": [
            "Digite seu nome:  Caio\n",
            "Digite seu sobrenome:  João\n",
            "Você não é o Caio Vinicius\n"
          ],
          "name": "stdout"
        }
      ]
    },
    {
      "cell_type": "code",
      "metadata": {
        "id": "vXUlj546pWls",
        "outputId": "ba934b68-8252-44c7-d15c-9cdeb12bcd8a",
        "colab": {
          "base_uri": "https://localhost:8080/"
        }
      },
      "source": [
        "numero_sorte = 10\n",
        "\n",
        "numero = int(input('Escolha um numero:  '))\n",
        "if numero != 10:\n",
        "  print('errou o numero')"
      ],
      "execution_count": null,
      "outputs": [
        {
          "output_type": "stream",
          "text": [
            "Escolha um numero:  10\n"
          ],
          "name": "stdout"
        }
      ]
    },
    {
      "cell_type": "markdown",
      "metadata": {
        "id": "3MuSwTEgkeYd"
      },
      "source": [
        "# Laços de Repetição\n",
        "\n",
        "É uma excelente forma de evitar repetição de código.\n",
        "\n",
        "Ele vai *executar n vezes* uma operação.\n",
        "\n",
        "*n* = QUantidade de vezes definida"
      ]
    },
    {
      "cell_type": "code",
      "metadata": {
        "id": "aWTB4WPAkjkf",
        "outputId": "e6c5a83e-d7c1-458f-a5b1-52092d014274",
        "colab": {
          "base_uri": "https://localhost:8080/",
          "height": 204
        }
      },
      "source": [
        "# De 1 até 10 vamos printar todos os numeros\n",
        "print(0)\n",
        "print(1)\n",
        "print(2)\n",
        "print(3)\n",
        "print(4)\n",
        "print(5)\n",
        "print(6)\n",
        "print(7)\n",
        "print(8)\n",
        "print(9)\n",
        "print(10)\n",
        "# Na programação o Mínimo (1) é INCLUSIVO => Ele existe\n",
        "# Já o Maximo (10) é EXCLUSIVO => Ele não existe"
      ],
      "execution_count": 9,
      "outputs": [
        {
          "output_type": "stream",
          "text": [
            "0\n",
            "1\n",
            "2\n",
            "3\n",
            "4\n",
            "5\n",
            "6\n",
            "7\n",
            "8\n",
            "9\n",
            "10\n"
          ],
          "name": "stdout"
        }
      ]
    },
    {
      "cell_type": "code",
      "metadata": {
        "id": "855ta7o4lTC7",
        "outputId": "2e93d63f-d91f-4b56-d1cc-4682325ddbe9",
        "colab": {
          "base_uri": "https://localhost:8080/",
          "height": 170
        }
      },
      "source": [
        "for numero in range(1,10):\n",
        "  print(numero)"
      ],
      "execution_count": 10,
      "outputs": [
        {
          "output_type": "stream",
          "text": [
            "1\n",
            "2\n",
            "3\n",
            "4\n",
            "5\n",
            "6\n",
            "7\n",
            "8\n",
            "9\n"
          ],
          "name": "stdout"
        }
      ]
    },
    {
      "cell_type": "code",
      "metadata": {
        "id": "-Bv4I2nBlXQz",
        "outputId": "c8096f84-c84f-43c8-b1a9-2e4c760e09a6",
        "colab": {
          "base_uri": "https://localhost:8080/",
          "height": 187
        }
      },
      "source": [
        "for numero in range(10):\n",
        "  print(numero)"
      ],
      "execution_count": 11,
      "outputs": [
        {
          "output_type": "stream",
          "text": [
            "0\n",
            "1\n",
            "2\n",
            "3\n",
            "4\n",
            "5\n",
            "6\n",
            "7\n",
            "8\n",
            "9\n"
          ],
          "name": "stdout"
        }
      ]
    },
    {
      "cell_type": "markdown",
      "metadata": {
        "id": "RQo-0t_llfFq"
      },
      "source": [
        "*for* = Nossa palavra-chave para Repetição.  \n",
        "*variável = O dado que estamos trabalhando no momento atual.  \n",
        "*in* = Nossa palavra chave para \"onde vamos repetir?\"  \n",
        "*intervalo/sequencia* = O que vamos repetir.  "
      ]
    },
    {
      "cell_type": "code",
      "metadata": {
        "id": "4icaUHrhl2fi",
        "outputId": "ae1f54d5-6134-4fb3-bdbc-b83e92ffa371",
        "colab": {
          "base_uri": "https://localhost:8080/",
          "height": 102
        }
      },
      "source": [
        "for numero in range(5):\n",
        "  print(numero)\n",
        "\n",
        "  # range = intervalo em inglês\n",
        "  #   for           numero        in        range(5)\n",
        "  # para cada       numero        no     intervalo até 5"
      ],
      "execution_count": 12,
      "outputs": [
        {
          "output_type": "stream",
          "text": [
            "0\n",
            "1\n",
            "2\n",
            "3\n",
            "4\n"
          ],
          "name": "stdout"
        }
      ]
    },
    {
      "cell_type": "code",
      "metadata": {
        "id": "S8v5O93Fl7fi",
        "outputId": "1e63e738-9248-44eb-bf2a-89fb87a3e5f2",
        "colab": {
          "base_uri": "https://localhost:8080/",
          "height": 187
        }
      },
      "source": [
        "for numero in range(1,11):\n",
        "  print('O número atual é:', numero)"
      ],
      "execution_count": 13,
      "outputs": [
        {
          "output_type": "stream",
          "text": [
            "O número atual é: 1\n",
            "O número atual é: 2\n",
            "O número atual é: 3\n",
            "O número atual é: 4\n",
            "O número atual é: 5\n",
            "O número atual é: 6\n",
            "O número atual é: 7\n",
            "O número atual é: 8\n",
            "O número atual é: 9\n",
            "O número atual é: 10\n"
          ],
          "name": "stdout"
        }
      ]
    },
    {
      "cell_type": "code",
      "metadata": {
        "id": "9DkzTOuhmZM7",
        "outputId": "52cd2f5e-2585-4c45-f96a-a10253d8c6a0",
        "colab": {
          "base_uri": "https://localhost:8080/",
          "height": 221
        }
      },
      "source": [
        "for numero in range(1,11):\n",
        "  print('O número atual é:', numero)\n",
        "  if numero == 5:\n",
        "    print('É o número 5')\n",
        "  if numero == 2:\n",
        "    print('É o numero 2')"
      ],
      "execution_count": 14,
      "outputs": [
        {
          "output_type": "stream",
          "text": [
            "O número atual é: 1\n",
            "O número atual é: 2\n",
            "É o numero 2\n",
            "O número atual é: 3\n",
            "O número atual é: 4\n",
            "O número atual é: 5\n",
            "É o número 5\n",
            "O número atual é: 6\n",
            "O número atual é: 7\n",
            "O número atual é: 8\n",
            "O número atual é: 9\n",
            "O número atual é: 10\n"
          ],
          "name": "stdout"
        }
      ]
    },
    {
      "cell_type": "code",
      "metadata": {
        "id": "TPxnFzW-mkOi",
        "outputId": "d437d337-44b8-48c1-e73a-d6c4995b4ac0",
        "colab": {
          "base_uri": "https://localhost:8080/",
          "height": 357
        }
      },
      "source": [
        "text = 'Não trave o zap dos amigos'\n",
        "\n",
        "for vez in range(20):\n",
        "  print('texto')"
      ],
      "execution_count": 15,
      "outputs": [
        {
          "output_type": "stream",
          "text": [
            "texto\n",
            "texto\n",
            "texto\n",
            "texto\n",
            "texto\n",
            "texto\n",
            "texto\n",
            "texto\n",
            "texto\n",
            "texto\n",
            "texto\n",
            "texto\n",
            "texto\n",
            "texto\n",
            "texto\n",
            "texto\n",
            "texto\n",
            "texto\n",
            "texto\n",
            "texto\n"
          ],
          "name": "stdout"
        }
      ]
    },
    {
      "cell_type": "code",
      "metadata": {
        "id": "fxBkcnvsmvJC"
      },
      "source": [
        "nomes = ['Caio', 'Felipe', 'Fabiana', 'Paulo', 'Katia']"
      ],
      "execution_count": 16,
      "outputs": []
    },
    {
      "cell_type": "code",
      "metadata": {
        "id": "Kh_NWQQ5m-ES",
        "outputId": "a33c0348-d4f8-404d-8c61-a2aa85ed33f3",
        "colab": {
          "base_uri": "https://localhost:8080/",
          "height": 102
        }
      },
      "source": [
        "for nome in nomes:\n",
        "  print('O nome atual é', nome)"
      ],
      "execution_count": 17,
      "outputs": [
        {
          "output_type": "stream",
          "text": [
            "O nome atual é Caio\n",
            "O nome atual é Felipe\n",
            "O nome atual é Fabiana\n",
            "O nome atual é Paulo\n",
            "O nome atual é Katia\n"
          ],
          "name": "stdout"
        }
      ]
    },
    {
      "cell_type": "code",
      "metadata": {
        "id": "fEWXRkWcnB0q",
        "outputId": "0a541678-f690-4ee2-81da-a2a5a064188d",
        "colab": {
          "base_uri": "https://localhost:8080/",
          "height": 119
        }
      },
      "source": [
        "for nome in nomes:\n",
        "  print('O nome atual é', nome)\n",
        "  if nome == 'Caio':\n",
        "    print('(Ou Escavelier)')"
      ],
      "execution_count": 18,
      "outputs": [
        {
          "output_type": "stream",
          "text": [
            "O nome atual é Caio\n",
            "(Ou Escavelier)\n",
            "O nome atual é Felipe\n",
            "O nome atual é Fabiana\n",
            "O nome atual é Paulo\n",
            "O nome atual é Katia\n"
          ],
          "name": "stdout"
        }
      ]
    },
    {
      "cell_type": "code",
      "metadata": {
        "id": "mj1fhF9YnL4i",
        "outputId": "4136d689-07e2-499b-b504-18eb14d0c082",
        "colab": {
          "base_uri": "https://localhost:8080/",
          "height": 51
        }
      },
      "source": [
        "notas = [6, 7.5, 9, 10, 3, 5]\n",
        "\n",
        "soma = 0\n",
        "\n",
        "for nota in notas:\n",
        "  soma = soma + nota\n",
        "\n",
        "print('A soma é', soma)\n",
        "\n",
        "media = soma / len(notas)\n",
        "\n",
        "print('A media é', media)"
      ],
      "execution_count": 19,
      "outputs": [
        {
          "output_type": "stream",
          "text": [
            "A soma é 40.5\n",
            "A media é 6.75\n"
          ],
          "name": "stdout"
        }
      ]
    },
    {
      "cell_type": "code",
      "metadata": {
        "id": "rG37_63bn13a",
        "outputId": "052b5c83-848c-465e-c8ab-acd9579c8e23",
        "colab": {
          "base_uri": "https://localhost:8080/",
          "height": 34
        }
      },
      "source": [
        "# len = Tamanho em ingles\n",
        "nomes = ['Caio', 'Pedro', 'Ghéssica', 'Rafael']\n",
        "len(nomes)"
      ],
      "execution_count": 20,
      "outputs": [
        {
          "output_type": "execute_result",
          "data": {
            "text/plain": [
              "4"
            ]
          },
          "metadata": {
            "tags": []
          },
          "execution_count": 20
        }
      ]
    },
    {
      "cell_type": "code",
      "metadata": {
        "id": "tdv8_tKvoZSk",
        "outputId": "dc85e648-3808-4ff5-cf70-484c083cc33c",
        "colab": {
          "base_uri": "https://localhost:8080/",
          "height": 51
        }
      },
      "source": [
        "lista1 = ['A', 'B', 'C']\n",
        "lista2 = [1, 2, 3, 4, 5]\n",
        "\n",
        "tam_lista1 = len(lista1)\n",
        "tam_lista2 = len(lista2)\n",
        "\n",
        "print(tam_lista1)\n",
        "print(tam_lista2)"
      ],
      "execution_count": 21,
      "outputs": [
        {
          "output_type": "stream",
          "text": [
            "3\n",
            "5\n"
          ],
          "name": "stdout"
        }
      ]
    },
    {
      "cell_type": "markdown",
      "metadata": {
        "id": "vASAMAgVqKJ8"
      },
      "source": [
        "# Função\n",
        "\n",
        "Toda função é uma rotina.\n",
        "\n",
        "Eu defino (def) uma rotina e a executo quantas vezes quiser.\n",
        "\n",
        "É uma excelente forma de deixar nosso código dinâmico e sem repetição."
      ]
    },
    {
      "cell_type": "code",
      "metadata": {
        "id": "ilhh6_t1qXqr",
        "outputId": "2a828ce5-7d99-45c0-8eb3-b9fa1802b5e4",
        "colab": {
          "base_uri": "https://localhost:8080/"
        }
      },
      "source": [
        "# Definindo a função\n",
        "def nome_funcao():\n",
        "#Código da função\n",
        "  print('Codigo da função')\n",
        "\n",
        "#Chamando a função\n",
        "nome_funcao()"
      ],
      "execution_count": null,
      "outputs": [
        {
          "output_type": "stream",
          "text": [
            "Codigo da função\n"
          ],
          "name": "stdout"
        }
      ]
    },
    {
      "cell_type": "code",
      "metadata": {
        "id": "CMguLvw1quay"
      },
      "source": [
        "def mostrar_nome():\n",
        "  print('Caio Vinicius')\n",
        "  print('Escavelier')\n",
        "\n",
        "  mostrar_nome()\n",
        "  mostrar_nome()"
      ],
      "execution_count": null,
      "outputs": []
    },
    {
      "cell_type": "markdown",
      "metadata": {
        "id": "xo5Yr9FerGxR"
      },
      "source": [
        "# Parâmetro/Argumento da função\n",
        "\n",
        "É uma maneira de enviar dados para a função"
      ]
    },
    {
      "cell_type": "code",
      "metadata": {
        "id": "I74e5CQqrq8G"
      },
      "source": [
        "def mostrar_nome(nome_atual):\n",
        "  print(nome_atual)\n",
        "\n",
        "  mostrar_nome('Caio')\n",
        "  mostrar_nome('Felipe')\n",
        "  mostrar_nome('Edgar')"
      ],
      "execution_count": null,
      "outputs": []
    },
    {
      "cell_type": "code",
      "metadata": {
        "id": "62YLV91lrNrr",
        "outputId": "6efd72db-f5d0-4f74-e5a1-2eff93b30a8b",
        "colab": {
          "base_uri": "https://localhost:8080/"
        }
      },
      "source": [
        "def calcular_media(nota1, nota2):\n",
        "  soma = nota1 + nota2\n",
        "  media = soma / 2\n",
        "  print(media)\n",
        "\n",
        "primeira_nota = float(input('Sua primeira nota: '))\n",
        "segunda_nota = float(input('Sua segunda nota: '))\n",
        "\n",
        "calcular_media(primeira_nota, segunda_nota)"
      ],
      "execution_count": null,
      "outputs": [
        {
          "output_type": "stream",
          "text": [
            "Sua primeira nota: 10\n",
            "Sua segunda nota: 5\n",
            "7.5\n"
          ],
          "name": "stdout"
        }
      ]
    },
    {
      "cell_type": "code",
      "metadata": {
        "id": "aiDs1pJusK27",
        "outputId": "8c06f45d-641d-47f5-fce2-b3e338539125",
        "colab": {
          "base_uri": "https://localhost:8080/"
        }
      },
      "source": [
        "def calcular_media(nota1, nota2):\n",
        "  soma = nota1 + nota2\n",
        "  media1 = soma / 2\n",
        "#quando queremos retornar um valor da função, ou seja, a função devolve um valor calculado, nós usamos o Return\n",
        "  return media\n",
        "\n",
        "media_calculada = calcular_media(10,8)\n",
        "\n",
        "print(media_calculada)"
      ],
      "execution_count": null,
      "outputs": [
        {
          "output_type": "stream",
          "text": [
            "6.75\n"
          ],
          "name": "stdout"
        }
      ]
    },
    {
      "cell_type": "code",
      "metadata": {
        "id": "i3neCPBMsjDk",
        "outputId": "11aa3765-19be-4ffc-ff96-bb89bf475380",
        "colab": {
          "base_uri": "https://localhost:8080/",
          "height": 51
        }
      },
      "source": [
        "#IMC = Peso (KG) / Altura (M)²\n",
        "\n",
        "def numero_quadrado(numero):\n",
        "  quadrado = numero * numero\n",
        "  return quadrado\n",
        "\n",
        "def calcular_imc(peso, altura):\n",
        "  altura_quadrada = numero_quadrado(altura)\n",
        "  meu_imc = peso / altura_quadrada\n",
        "  return meu_imc\n",
        "\n",
        "def classificar_imc(meu_imc):\n",
        "  if imc < 18.5:\n",
        "    print('Magreza')\n",
        "  elif imc >= 18.5 and imc < 25:\n",
        "    print('Normal')\n",
        "  elif imc >= 25 and imc < 30:\n",
        "    print('Sobrepeso')\n",
        "  elif imc >= 30 and imc < 40:\n",
        "    print('Obesidade')\n",
        "  else:\n",
        "    print('Obesidade Grave')\n",
        "\n",
        "imc = calcular_imc(80, 1.68)\n",
        "print('Seu IMC é: ', imc)\n",
        "print('Sua classificação é: ')"
      ],
      "execution_count": 8,
      "outputs": [
        {
          "output_type": "stream",
          "text": [
            "Seu IMC é:  28.344671201814062\n",
            "Sua classificação é: \n"
          ],
          "name": "stdout"
        }
      ]
    },
    {
      "cell_type": "code",
      "metadata": {
        "id": "cggte-q_te4t"
      },
      "source": [
        ""
      ],
      "execution_count": null,
      "outputs": []
    }
  ]
}