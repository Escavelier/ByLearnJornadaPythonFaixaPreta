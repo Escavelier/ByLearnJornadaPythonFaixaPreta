{
  "nbformat": 4,
  "nbformat_minor": 0,
  "metadata": {
    "colab": {
      "name": "JornadaFaixaPretaPython.ipynb",
      "provenance": []
    },
    "kernelspec": {
      "name": "python3",
      "display_name": "Python 3"
    }
  },
  "cells": [
    {
      "cell_type": "code",
      "metadata": {
        "id": "288N5wkxTExX"
      },
      "source": [
        ""
      ],
      "execution_count": null,
      "outputs": []
    },
    {
      "cell_type": "markdown",
      "metadata": {
        "id": "skaifIZpUA_s"
      },
      "source": [
        "# Identação de código\n",
        "\n",
        "Identação é aquele espaçamento no início da linha.\n",
        "\n",
        "O nível mais a direita pertence ao nível mais a esquerda"
      ]
    },
    {
      "cell_type": "code",
      "metadata": {
        "id": "2tzDOFV0UP_H"
      },
      "source": [
        "# Nível Pai\n",
        "  # Nível Filho 1\n",
        "    # Nível Neto 1\n",
        "      # Nível Bisneto 1\n",
        "      # Nível Bisneto 2\n",
        "      # Nível Bisneto 3\n",
        "    # Nível Neto 2"
      ],
      "execution_count": null,
      "outputs": []
    },
    {
      "cell_type": "code",
      "metadata": {
        "id": "m4M5k5VnVQoI",
        "outputId": "ac4dc6b4-96a9-4828-d0d9-4dbd4da626ae",
        "colab": {
          "base_uri": "https://localhost:8080/"
        }
      },
      "source": [
        "print(\"ByLearners\")"
      ],
      "execution_count": null,
      "outputs": [
        {
          "output_type": "stream",
          "text": [
            "ByLearners\n"
          ],
          "name": "stdout"
        }
      ]
    },
    {
      "cell_type": "code",
      "metadata": {
        "id": "QqfhNQXZVZI7"
      },
      "source": [
        ""
      ],
      "execution_count": null,
      "outputs": []
    },
    {
      "cell_type": "markdown",
      "metadata": {
        "id": "UOX-mf8xVdxM"
      },
      "source": [
        "# Variáveis\n",
        "\n",
        "Uma variável é um nome que se refere a um valor.\n",
        "\n",
        "## Motivo do Uso\n",
        "\n",
        "São usadas para guardarmos valores para serem usados mais tarde no nosso programa\n",
        "\n",
        "## Sintaxe\n",
        "\n",
        "variavel = valor  \n",
        "variavel = novo_valor  \n",
        "nova_variavel = variavel  "
      ]
    },
    {
      "cell_type": "code",
      "metadata": {
        "id": "yd4fdw63WeBm"
      },
      "source": [
        "nome = 'Caio'\n",
        "idade = 21"
      ],
      "execution_count": 1,
      "outputs": []
    },
    {
      "cell_type": "code",
      "metadata": {
        "id": "KfTkkyUwWi-K",
        "outputId": "c172be2b-f8af-4f94-ed96-759a03f9e119",
        "colab": {
          "base_uri": "https://localhost:8080/",
          "height": 35
        }
      },
      "source": [
        "nome"
      ],
      "execution_count": 2,
      "outputs": [
        {
          "output_type": "execute_result",
          "data": {
            "application/vnd.google.colaboratory.intrinsic+json": {
              "type": "string"
            },
            "text/plain": [
              "'Caio'"
            ]
          },
          "metadata": {
            "tags": []
          },
          "execution_count": 2
        }
      ]
    },
    {
      "cell_type": "code",
      "metadata": {
        "id": "2DJuoSaYWlYv",
        "outputId": "07fc0002-ac17-4d56-b6ef-5c74d7d89f55",
        "colab": {
          "base_uri": "https://localhost:8080/",
          "height": 34
        }
      },
      "source": [
        "idade"
      ],
      "execution_count": 3,
      "outputs": [
        {
          "output_type": "execute_result",
          "data": {
            "text/plain": [
              "21"
            ]
          },
          "metadata": {
            "tags": []
          },
          "execution_count": 3
        }
      ]
    },
    {
      "cell_type": "code",
      "metadata": {
        "id": "Rgw1MyjhWmD5"
      },
      "source": [
        "idade = idade + 1"
      ],
      "execution_count": 4,
      "outputs": []
    },
    {
      "cell_type": "code",
      "metadata": {
        "id": "fldoPT5rWtH5",
        "outputId": "ac72ca68-80f1-4307-a12d-b50431848cca",
        "colab": {
          "base_uri": "https://localhost:8080/",
          "height": 34
        }
      },
      "source": [
        "idade"
      ],
      "execution_count": 5,
      "outputs": [
        {
          "output_type": "execute_result",
          "data": {
            "text/plain": [
              "22"
            ]
          },
          "metadata": {
            "tags": []
          },
          "execution_count": 5
        }
      ]
    },
    {
      "cell_type": "code",
      "metadata": {
        "id": "cjvnQP2CWvQI"
      },
      "source": [
        "idade_caio_2020 = idade"
      ],
      "execution_count": 6,
      "outputs": []
    },
    {
      "cell_type": "code",
      "metadata": {
        "id": "7zNxJMk_W3vp",
        "outputId": "75ada250-dcf6-48b3-a45e-ac55869f85b7",
        "colab": {
          "base_uri": "https://localhost:8080/",
          "height": 34
        }
      },
      "source": [
        "idade_caio_2020"
      ],
      "execution_count": 7,
      "outputs": [
        {
          "output_type": "execute_result",
          "data": {
            "text/plain": [
              "22"
            ]
          },
          "metadata": {
            "tags": []
          },
          "execution_count": 7
        }
      ]
    },
    {
      "cell_type": "code",
      "metadata": {
        "id": "13-ZrBMWW6aa"
      },
      "source": [
        "primeiro_numero = 15  \n",
        "segundo_numero = 10  \n",
        "\n",
        "soma = primeiro_numero + segundo_numero"
      ],
      "execution_count": 8,
      "outputs": []
    },
    {
      "cell_type": "code",
      "metadata": {
        "id": "rDf4X-lJXFS5",
        "outputId": "abadf1b9-d1c2-4169-bb02-51427eb2b9ca",
        "colab": {
          "base_uri": "https://localhost:8080/",
          "height": 34
        }
      },
      "source": [
        "soma"
      ],
      "execution_count": 9,
      "outputs": [
        {
          "output_type": "execute_result",
          "data": {
            "text/plain": [
              "25"
            ]
          },
          "metadata": {
            "tags": []
          },
          "execution_count": 9
        }
      ]
    },
    {
      "cell_type": "code",
      "metadata": {
        "id": "EhclX0ZnXGZR"
      },
      "source": [
        "nome = 'Caio'  \n",
        "sobrenome = 'Vinicius'  \n",
        "apelido = 'Escavelier'"
      ],
      "execution_count": 10,
      "outputs": []
    },
    {
      "cell_type": "code",
      "metadata": {
        "id": "Iosi6YgjXVsz",
        "outputId": "308b5fc2-31bc-4e31-b8f4-36a1aa01899a",
        "colab": {
          "base_uri": "https://localhost:8080/",
          "height": 35
        }
      },
      "source": [
        "nome"
      ],
      "execution_count": 11,
      "outputs": [
        {
          "output_type": "execute_result",
          "data": {
            "application/vnd.google.colaboratory.intrinsic+json": {
              "type": "string"
            },
            "text/plain": [
              "'Caio'"
            ]
          },
          "metadata": {
            "tags": []
          },
          "execution_count": 11
        }
      ]
    },
    {
      "cell_type": "code",
      "metadata": {
        "id": "YF_7w_WZXXA6",
        "outputId": "6016c9fa-59e4-4755-e54a-fcf2a3c12237",
        "colab": {
          "base_uri": "https://localhost:8080/",
          "height": 35
        }
      },
      "source": [
        "apelido"
      ],
      "execution_count": 12,
      "outputs": [
        {
          "output_type": "execute_result",
          "data": {
            "application/vnd.google.colaboratory.intrinsic+json": {
              "type": "string"
            },
            "text/plain": [
              "'Escavelier'"
            ]
          },
          "metadata": {
            "tags": []
          },
          "execution_count": 12
        }
      ]
    },
    {
      "cell_type": "code",
      "metadata": {
        "id": "xyxYUCnVXX-a"
      },
      "source": [
        "nome_completo = nome + sobrenome"
      ],
      "execution_count": 13,
      "outputs": []
    },
    {
      "cell_type": "code",
      "metadata": {
        "id": "QZgG3wJJXbYy",
        "outputId": "97cc98bb-610c-4d3a-cb26-f136fd1f172f",
        "colab": {
          "base_uri": "https://localhost:8080/",
          "height": 35
        }
      },
      "source": [
        "nome_completo"
      ],
      "execution_count": 14,
      "outputs": [
        {
          "output_type": "execute_result",
          "data": {
            "application/vnd.google.colaboratory.intrinsic+json": {
              "type": "string"
            },
            "text/plain": [
              "'CaioVinicius'"
            ]
          },
          "metadata": {
            "tags": []
          },
          "execution_count": 14
        }
      ]
    },
    {
      "cell_type": "code",
      "metadata": {
        "id": "xTzYk4hNXdDy"
      },
      "source": [
        "nome_completo = nome + ' ' + sobrenome"
      ],
      "execution_count": 15,
      "outputs": []
    },
    {
      "cell_type": "code",
      "metadata": {
        "id": "D7AjkYKkXmIM",
        "outputId": "827d8512-6330-494a-9650-06e4d53bd3b9",
        "colab": {
          "base_uri": "https://localhost:8080/",
          "height": 35
        }
      },
      "source": [
        "nome_completo\n"
      ],
      "execution_count": 16,
      "outputs": [
        {
          "output_type": "execute_result",
          "data": {
            "application/vnd.google.colaboratory.intrinsic+json": {
              "type": "string"
            },
            "text/plain": [
              "'Caio Vinicius'"
            ]
          },
          "metadata": {
            "tags": []
          },
          "execution_count": 16
        }
      ]
    },
    {
      "cell_type": "code",
      "metadata": {
        "id": "kkYsWu0OXndp"
      },
      "source": [
        "nome_completo = nome + ' ' + apelido + ' ' + sobrenome"
      ],
      "execution_count": 17,
      "outputs": []
    },
    {
      "cell_type": "code",
      "metadata": {
        "id": "Q-Tl0k_UYKvy",
        "outputId": "e19a1c48-6f9e-4787-dd3f-ecc23f3e1743",
        "colab": {
          "base_uri": "https://localhost:8080/",
          "height": 35
        }
      },
      "source": [
        "nome_completo"
      ],
      "execution_count": 18,
      "outputs": [
        {
          "output_type": "execute_result",
          "data": {
            "application/vnd.google.colaboratory.intrinsic+json": {
              "type": "string"
            },
            "text/plain": [
              "'Caio Escavelier Vinicius'"
            ]
          },
          "metadata": {
            "tags": []
          },
          "execution_count": 18
        }
      ]
    },
    {
      "cell_type": "markdown",
      "metadata": {
        "id": "kGkXREgGZAfc"
      },
      "source": [
        "# Tipos de Dados\n",
        "\n",
        "Toda variavel tem um tipo, que a define se é um texto, número, booleano"
      ]
    },
    {
      "cell_type": "code",
      "metadata": {
        "id": "DKKTWxhQZMRQ"
      },
      "source": [
        "inteiro = 10\n",
        "decimal = 3  \n",
        "texto = 'Caio Vinicius'  \n",
        "verdadeiro_falso = True #True ou False"
      ],
      "execution_count": null,
      "outputs": []
    },
    {
      "cell_type": "code",
      "metadata": {
        "id": "oiLwcXHuZb-7",
        "outputId": "b67d628d-8867-4813-e818-a8397f03a2fc",
        "colab": {
          "base_uri": "https://localhost:8080/"
        }
      },
      "source": [
        "23 + 10"
      ],
      "execution_count": null,
      "outputs": [
        {
          "output_type": "execute_result",
          "data": {
            "text/plain": [
              "33"
            ]
          },
          "metadata": {
            "tags": []
          },
          "execution_count": 30
        }
      ]
    },
    {
      "cell_type": "code",
      "metadata": {
        "id": "lxpr_hHaZe87",
        "outputId": "46c2b498-7789-4f08-896d-a5dc9f468131",
        "colab": {
          "base_uri": "https://localhost:8080/",
          "height": 35
        }
      },
      "source": [
        "'23' + '10'"
      ],
      "execution_count": null,
      "outputs": [
        {
          "output_type": "execute_result",
          "data": {
            "application/vnd.google.colaboratory.intrinsic+json": {
              "type": "string"
            },
            "text/plain": [
              "'2310'"
            ]
          },
          "metadata": {
            "tags": []
          },
          "execution_count": 31
        }
      ]
    },
    {
      "cell_type": "code",
      "metadata": {
        "id": "PmxfmvadZhv7",
        "outputId": "0d4a7401-5399-49bd-b8fa-c1bab07ae59b",
        "colab": {
          "base_uri": "https://localhost:8080/",
          "height": 35
        }
      },
      "source": [
        "\"ab\" + \"cd\""
      ],
      "execution_count": null,
      "outputs": [
        {
          "output_type": "execute_result",
          "data": {
            "application/vnd.google.colaboratory.intrinsic+json": {
              "type": "string"
            },
            "text/plain": [
              "'abcd'"
            ]
          },
          "metadata": {
            "tags": []
          },
          "execution_count": 32
        }
      ]
    },
    {
      "cell_type": "code",
      "metadata": {
        "id": "0ua4R7hRZjtz",
        "outputId": "845362de-0394-4913-8ac0-27ce5766bdf6",
        "colab": {
          "base_uri": "https://localhost:8080/"
        }
      },
      "source": [
        "type(23)"
      ],
      "execution_count": null,
      "outputs": [
        {
          "output_type": "execute_result",
          "data": {
            "text/plain": [
              "int"
            ]
          },
          "metadata": {
            "tags": []
          },
          "execution_count": 33
        }
      ]
    },
    {
      "cell_type": "code",
      "metadata": {
        "id": "zaqw3ZxbZo1K",
        "outputId": "d8575b08-3793-4778-8f4c-6965e029bdef",
        "colab": {
          "base_uri": "https://localhost:8080/"
        }
      },
      "source": [
        "type ('23')"
      ],
      "execution_count": null,
      "outputs": [
        {
          "output_type": "execute_result",
          "data": {
            "text/plain": [
              "str"
            ]
          },
          "metadata": {
            "tags": []
          },
          "execution_count": 34
        }
      ]
    },
    {
      "cell_type": "code",
      "metadata": {
        "id": "SeNQoM6gZrkC"
      },
      "source": [
        "inteiro = 10 #int  \n",
        "decimal = 10.5 #float \n",
        "texto = 'Caio Vinicius' #str \n",
        "Verdadeiro_Falso = True #bool"
      ],
      "execution_count": null,
      "outputs": []
    },
    {
      "cell_type": "code",
      "metadata": {
        "id": "rEGERXuhZyKv",
        "outputId": "01763595-3766-4202-8822-994b6fad9261",
        "colab": {
          "base_uri": "https://localhost:8080/"
        }
      },
      "source": [
        "type(inteiro)"
      ],
      "execution_count": null,
      "outputs": [
        {
          "output_type": "execute_result",
          "data": {
            "text/plain": [
              "int"
            ]
          },
          "metadata": {
            "tags": []
          },
          "execution_count": 35
        }
      ]
    },
    {
      "cell_type": "code",
      "metadata": {
        "id": "z_FuFVpYZ0R6",
        "outputId": "fef7f2b6-99b0-4f29-994d-e9d8d547e4ed",
        "colab": {
          "base_uri": "https://localhost:8080/"
        }
      },
      "source": [
        "type(decimal)"
      ],
      "execution_count": null,
      "outputs": [
        {
          "output_type": "execute_result",
          "data": {
            "text/plain": [
              "float"
            ]
          },
          "metadata": {
            "tags": []
          },
          "execution_count": 36
        }
      ]
    },
    {
      "cell_type": "code",
      "metadata": {
        "id": "QLFua81EZ13C",
        "outputId": "ff1805c2-06cc-47a3-b156-9fc51af482a8",
        "colab": {
          "base_uri": "https://localhost:8080/"
        }
      },
      "source": [
        "type(texto)"
      ],
      "execution_count": null,
      "outputs": [
        {
          "output_type": "execute_result",
          "data": {
            "text/plain": [
              "str"
            ]
          },
          "metadata": {
            "tags": []
          },
          "execution_count": 37
        }
      ]
    },
    {
      "cell_type": "code",
      "metadata": {
        "id": "R4ImDrr-Z38S",
        "outputId": "2afc6c9a-c374-4466-feb8-12a5d48ea389",
        "colab": {
          "base_uri": "https://localhost:8080/"
        }
      },
      "source": [
        "type(verdadeiro_falso)"
      ],
      "execution_count": null,
      "outputs": [
        {
          "output_type": "execute_result",
          "data": {
            "text/plain": [
              "bool"
            ]
          },
          "metadata": {
            "tags": []
          },
          "execution_count": 38
        }
      ]
    },
    {
      "cell_type": "code",
      "metadata": {
        "id": "9D9IpfQOZ6AC",
        "outputId": "eb7a67bc-6a0c-4619-a043-99f861c79ee9",
        "colab": {
          "base_uri": "https://localhost:8080/",
          "height": 163
        }
      },
      "source": [
        "23 + '10'"
      ],
      "execution_count": null,
      "outputs": [
        {
          "output_type": "error",
          "ename": "TypeError",
          "evalue": "ignored",
          "traceback": [
            "\u001b[0;31m---------------------------------------------------------------------------\u001b[0m",
            "\u001b[0;31mTypeError\u001b[0m                                 Traceback (most recent call last)",
            "\u001b[0;32m<ipython-input-39-59d822eef1e9>\u001b[0m in \u001b[0;36m<module>\u001b[0;34m()\u001b[0m\n\u001b[0;32m----> 1\u001b[0;31m \u001b[0;36m23\u001b[0m \u001b[0;34m+\u001b[0m \u001b[0;34m'10'\u001b[0m\u001b[0;34m\u001b[0m\u001b[0;34m\u001b[0m\u001b[0m\n\u001b[0m",
            "\u001b[0;31mTypeError\u001b[0m: unsupported operand type(s) for +: 'int' and 'str'"
          ]
        }
      ]
    },
    {
      "cell_type": "code",
      "metadata": {
        "id": "MXj6cttuaBBE"
      },
      "source": [
        "# int - números inteiros\n",
        "# float - números quebrados\n",
        "# str - texto (string)\n",
        "# bool - booleano (verdadeiro ou falso)\n",
        "\n",
        "texto_10 = '10'\n",
        "numero_20 = 20"
      ],
      "execution_count": null,
      "outputs": []
    },
    {
      "cell_type": "code",
      "metadata": {
        "id": "art9_li8amuS",
        "outputId": "9f2f8dcf-9934-4111-fc1c-696a4335bb86",
        "colab": {
          "base_uri": "https://localhost:8080/"
        }
      },
      "source": [
        "type(texto_10)"
      ],
      "execution_count": null,
      "outputs": [
        {
          "output_type": "execute_result",
          "data": {
            "text/plain": [
              "str"
            ]
          },
          "metadata": {
            "tags": []
          },
          "execution_count": 41
        }
      ]
    },
    {
      "cell_type": "code",
      "metadata": {
        "id": "JZQvrC-JapPq",
        "outputId": "910ef9d2-75c6-43db-dae8-128773dae56d",
        "colab": {
          "base_uri": "https://localhost:8080/"
        }
      },
      "source": [
        "type(numero_20)"
      ],
      "execution_count": null,
      "outputs": [
        {
          "output_type": "execute_result",
          "data": {
            "text/plain": [
              "int"
            ]
          },
          "metadata": {
            "tags": []
          },
          "execution_count": 42
        }
      ]
    },
    {
      "cell_type": "code",
      "metadata": {
        "id": "dnsPiYTgasXC"
      },
      "source": [
        "numero_10 = int(texto_10)"
      ],
      "execution_count": null,
      "outputs": []
    },
    {
      "cell_type": "code",
      "metadata": {
        "id": "LOXOR-lRa8nD",
        "outputId": "33de3eb5-9070-4d5f-d5f8-77d6306ae037",
        "colab": {
          "base_uri": "https://localhost:8080/"
        }
      },
      "source": [
        "type(numero_10)"
      ],
      "execution_count": null,
      "outputs": [
        {
          "output_type": "execute_result",
          "data": {
            "text/plain": [
              "int"
            ]
          },
          "metadata": {
            "tags": []
          },
          "execution_count": 45
        }
      ]
    },
    {
      "cell_type": "code",
      "metadata": {
        "id": "tnJUNaFHa_gq"
      },
      "source": [
        "texto_20 = str(numero_20)"
      ],
      "execution_count": null,
      "outputs": []
    },
    {
      "cell_type": "code",
      "metadata": {
        "id": "6xv72YshbKJr",
        "outputId": "1ae1072a-89e2-4a87-f221-ba1a3a00fdc4",
        "colab": {
          "base_uri": "https://localhost:8080/"
        }
      },
      "source": [
        "type(texto_20)"
      ],
      "execution_count": null,
      "outputs": [
        {
          "output_type": "execute_result",
          "data": {
            "text/plain": [
              "str"
            ]
          },
          "metadata": {
            "tags": []
          },
          "execution_count": 48
        }
      ]
    },
    {
      "cell_type": "code",
      "metadata": {
        "id": "Gc700hxxbL8S"
      },
      "source": [
        "esta_chovendo = True"
      ],
      "execution_count": null,
      "outputs": []
    },
    {
      "cell_type": "code",
      "metadata": {
        "id": "RI5sIxnzbiJq"
      },
      "source": [
        "esta_frio = False"
      ],
      "execution_count": null,
      "outputs": []
    },
    {
      "cell_type": "code",
      "metadata": {
        "id": "Vjw8CC5AbkZ7",
        "outputId": "860f77dd-056c-4e06-b0f9-e66d037444e5",
        "colab": {
          "base_uri": "https://localhost:8080/"
        }
      },
      "source": [
        "True"
      ],
      "execution_count": null,
      "outputs": [
        {
          "output_type": "execute_result",
          "data": {
            "text/plain": [
              "True"
            ]
          },
          "metadata": {
            "tags": []
          },
          "execution_count": 51
        }
      ]
    },
    {
      "cell_type": "code",
      "metadata": {
        "id": "J3e_5JSkcHJ8"
      },
      "source": [
        ""
      ],
      "execution_count": null,
      "outputs": []
    },
    {
      "cell_type": "markdown",
      "metadata": {
        "id": "sSP14SLscU97"
      },
      "source": [
        "# Operações Matemágicas\n",
        "Podemos fazer todas as operações matemáticas facilmente\n",
        "\n",
        " * soma = +\n",
        " * subtração = -\n",
        " * multiplicação = *\n",
        " * divisão = /"
      ]
    },
    {
      "cell_type": "code",
      "metadata": {
        "id": "tYTPBHtFcbIy"
      },
      "source": [
        "soma = 1 + 1"
      ],
      "execution_count": null,
      "outputs": []
    },
    {
      "cell_type": "code",
      "metadata": {
        "id": "HGMmKp21cd1N"
      },
      "source": [
        "subtração = 10 - 2"
      ],
      "execution_count": null,
      "outputs": []
    },
    {
      "cell_type": "code",
      "metadata": {
        "id": "7H-PRB_rc1Nz"
      },
      "source": [
        "multiplicação = 2 * 5"
      ],
      "execution_count": null,
      "outputs": []
    },
    {
      "cell_type": "code",
      "metadata": {
        "id": "ITVt0Ma9c478"
      },
      "source": [
        "divisão = 10 / 2"
      ],
      "execution_count": null,
      "outputs": []
    },
    {
      "cell_type": "code",
      "metadata": {
        "id": "u96SMU_Pc67U",
        "outputId": "8bc07118-9917-43c7-fe5e-babcba865dc4",
        "colab": {
          "base_uri": "https://localhost:8080/"
        }
      },
      "source": [
        "soma"
      ],
      "execution_count": null,
      "outputs": [
        {
          "output_type": "execute_result",
          "data": {
            "text/plain": [
              "2"
            ]
          },
          "metadata": {
            "tags": []
          },
          "execution_count": 58
        }
      ]
    },
    {
      "cell_type": "code",
      "metadata": {
        "id": "ZRmyje02c7mr",
        "outputId": "b24dd5c2-5b08-48db-f978-65a358cf5bc2",
        "colab": {
          "base_uri": "https://localhost:8080/"
        }
      },
      "source": [
        "subtração"
      ],
      "execution_count": null,
      "outputs": [
        {
          "output_type": "execute_result",
          "data": {
            "text/plain": [
              "8"
            ]
          },
          "metadata": {
            "tags": []
          },
          "execution_count": 59
        }
      ]
    },
    {
      "cell_type": "code",
      "metadata": {
        "id": "O1Zusa29c8eb",
        "outputId": "fe4083ae-4435-48d3-c84a-1bae78d5f0ab",
        "colab": {
          "base_uri": "https://localhost:8080/"
        }
      },
      "source": [
        "multiplicação"
      ],
      "execution_count": null,
      "outputs": [
        {
          "output_type": "execute_result",
          "data": {
            "text/plain": [
              "10"
            ]
          },
          "metadata": {
            "tags": []
          },
          "execution_count": 60
        }
      ]
    },
    {
      "cell_type": "code",
      "metadata": {
        "id": "ng_Wsnglc9YL",
        "outputId": "d5504367-de0e-42a5-b64b-ab0f9b0d92c5",
        "colab": {
          "base_uri": "https://localhost:8080/"
        }
      },
      "source": [
        "divisão"
      ],
      "execution_count": null,
      "outputs": [
        {
          "output_type": "execute_result",
          "data": {
            "text/plain": [
              "5.0"
            ]
          },
          "metadata": {
            "tags": []
          },
          "execution_count": 61
        }
      ]
    },
    {
      "cell_type": "code",
      "metadata": {
        "id": "0dLBhRdic-nD"
      },
      "source": [
        "primeiro_numero = 10\n",
        "segundo_numero = 5\n",
        "terceiro_numero = 13\n",
        "quarto_numero = 20\n",
        "\n",
        "valor_final = (primeiro_numero + segundo_numero - terceiro_numero) / quarto_numero"
      ],
      "execution_count": null,
      "outputs": []
    },
    {
      "cell_type": "code",
      "metadata": {
        "id": "f3a4rNDIdNXL",
        "outputId": "7b83eec7-7d1b-4de5-c977-7aa365cdd6cd",
        "colab": {
          "base_uri": "https://localhost:8080/"
        }
      },
      "source": [
        "valor_final\n"
      ],
      "execution_count": null,
      "outputs": [
        {
          "output_type": "execute_result",
          "data": {
            "text/plain": [
              "0.1"
            ]
          },
          "metadata": {
            "tags": []
          },
          "execution_count": 63
        }
      ]
    },
    {
      "cell_type": "code",
      "metadata": {
        "id": "RghyrP8vdPJr"
      },
      "source": [
        ""
      ],
      "execution_count": null,
      "outputs": []
    },
    {
      "cell_type": "markdown",
      "metadata": {
        "id": "sQjthOXYdQ3E"
      },
      "source": [
        "# Métodos de Entrada\n",
        "\n",
        "  São formas de enviar valores para o Python\n",
        "  Usamos a função input() e enviamos uma mensagem (string)"
      ]
    },
    {
      "cell_type": "code",
      "metadata": {
        "id": "70DQ78E0dXxk",
        "outputId": "3d8d462f-a714-497a-e2ae-a0f943f04fb8",
        "colab": {
          "base_uri": "https://localhost:8080/"
        }
      },
      "source": [
        "nome = input()"
      ],
      "execution_count": null,
      "outputs": [
        {
          "output_type": "stream",
          "text": [
            "Caio\n"
          ],
          "name": "stdout"
        }
      ]
    },
    {
      "cell_type": "code",
      "metadata": {
        "id": "X1S22trLdgos",
        "outputId": "e90c9258-b2ff-4d1d-9959-dd8dbf8e647b",
        "colab": {
          "base_uri": "https://localhost:8080/"
        }
      },
      "source": [
        "nome = input('Insira seu nome:  ')"
      ],
      "execution_count": null,
      "outputs": [
        {
          "output_type": "stream",
          "text": [
            "Insira seu nome:  Caio\n"
          ],
          "name": "stdout"
        }
      ]
    },
    {
      "cell_type": "code",
      "metadata": {
        "id": "hn4FKl1rdmQc",
        "outputId": "513af2c1-d997-4b7c-f108-0c9cd1efd259",
        "colab": {
          "base_uri": "https://localhost:8080/"
        }
      },
      "source": [
        "idade = input('Insira sua idade: ')"
      ],
      "execution_count": null,
      "outputs": [
        {
          "output_type": "stream",
          "text": [
            "Insira sua idade: 21\n"
          ],
          "name": "stdout"
        }
      ]
    },
    {
      "cell_type": "code",
      "metadata": {
        "id": "-VCyCGAidqfM",
        "outputId": "2e1b897b-e59c-407c-e616-bf555bd7614c",
        "colab": {
          "base_uri": "https://localhost:8080/",
          "height": 35
        }
      },
      "source": [
        "idade"
      ],
      "execution_count": null,
      "outputs": [
        {
          "output_type": "execute_result",
          "data": {
            "application/vnd.google.colaboratory.intrinsic+json": {
              "type": "string"
            },
            "text/plain": [
              "'21'"
            ]
          },
          "metadata": {
            "tags": []
          },
          "execution_count": 67
        }
      ]
    },
    {
      "cell_type": "code",
      "metadata": {
        "id": "poXZ_xOhdsNk",
        "outputId": "f372bbe8-21a2-4576-ef1e-e56421971db5",
        "colab": {
          "base_uri": "https://localhost:8080/"
        }
      },
      "source": [
        "type(idade)"
      ],
      "execution_count": null,
      "outputs": [
        {
          "output_type": "execute_result",
          "data": {
            "text/plain": [
              "str"
            ]
          },
          "metadata": {
            "tags": []
          },
          "execution_count": 68
        }
      ]
    },
    {
      "cell_type": "code",
      "metadata": {
        "id": "miuE4ix7dzdr",
        "outputId": "cb72cc2d-cf82-474a-8872-2dd39cfba4dd",
        "colab": {
          "base_uri": "https://localhost:8080/"
        }
      },
      "source": [
        "hitman = input('Insira seu nome')"
      ],
      "execution_count": null,
      "outputs": [
        {
          "output_type": "stream",
          "text": [
            "Insira seu nome47\n"
          ],
          "name": "stdout"
        }
      ]
    },
    {
      "cell_type": "code",
      "metadata": {
        "id": "Vx35SpcWd8Z8",
        "outputId": "3dd37429-84ac-4762-ade3-c2ebb9beeef5",
        "colab": {
          "base_uri": "https://localhost:8080/",
          "height": 35
        }
      },
      "source": [
        "hitman"
      ],
      "execution_count": null,
      "outputs": [
        {
          "output_type": "execute_result",
          "data": {
            "application/vnd.google.colaboratory.intrinsic+json": {
              "type": "string"
            },
            "text/plain": [
              "'47'"
            ]
          },
          "metadata": {
            "tags": []
          },
          "execution_count": 70
        }
      ]
    },
    {
      "cell_type": "code",
      "metadata": {
        "id": "rHksZ3fcd_Ss",
        "outputId": "e0babec5-a75e-4dc9-c9eb-c246a706fcc8",
        "colab": {
          "base_uri": "https://localhost:8080/"
        }
      },
      "source": [
        "idade = int(input('Insira sua idade:  '))"
      ],
      "execution_count": null,
      "outputs": [
        {
          "output_type": "stream",
          "text": [
            "Insira sua idade:  21\n"
          ],
          "name": "stdout"
        }
      ]
    },
    {
      "cell_type": "code",
      "metadata": {
        "id": "BNuZvcpbeO48",
        "outputId": "121bb051-6373-409c-aa9e-e9ce3c11fadf",
        "colab": {
          "base_uri": "https://localhost:8080/"
        }
      },
      "source": [
        "type(21)"
      ],
      "execution_count": null,
      "outputs": [
        {
          "output_type": "execute_result",
          "data": {
            "text/plain": [
              "int"
            ]
          },
          "metadata": {
            "tags": []
          },
          "execution_count": 72
        }
      ]
    },
    {
      "cell_type": "code",
      "metadata": {
        "id": "5Yzxkh-LeRIs",
        "outputId": "37ecb0d4-7aa8-4ed8-a856-942e07c43223",
        "colab": {
          "base_uri": "https://localhost:8080/"
        }
      },
      "source": [
        "idade"
      ],
      "execution_count": null,
      "outputs": [
        {
          "output_type": "execute_result",
          "data": {
            "text/plain": [
              "21"
            ]
          },
          "metadata": {
            "tags": []
          },
          "execution_count": 73
        }
      ]
    },
    {
      "cell_type": "code",
      "metadata": {
        "id": "BMx1Al3TeSyM"
      },
      "source": [
        ""
      ],
      "execution_count": null,
      "outputs": []
    },
    {
      "cell_type": "markdown",
      "metadata": {
        "id": "-v0B4ww-elrg"
      },
      "source": [
        "# Métodos de Saída\n",
        "\n",
        "  Mostrar um valor para o usuário\n",
        "  "
      ]
    },
    {
      "cell_type": "code",
      "metadata": {
        "id": "25lo3CutetQV",
        "outputId": "dde42a29-d5e4-47ad-de37-0efb172275d9",
        "colab": {
          "base_uri": "https://localhost:8080/"
        }
      },
      "source": [
        "primeiro_numero = 10\n",
        "segundo_numero = 20\n",
        "\n",
        "soma = primeiro_numero + segundo_numero\n",
        "\n",
        "print('O valor da soma é de', soma)"
      ],
      "execution_count": null,
      "outputs": [
        {
          "output_type": "stream",
          "text": [
            "O valor da soma é de 30\n"
          ],
          "name": "stdout"
        }
      ]
    },
    {
      "cell_type": "code",
      "metadata": {
        "id": "kUyLrWohfAp1",
        "outputId": "ebd0e220-e181-4024-aca9-9de5dd2c95f2",
        "colab": {
          "base_uri": "https://localhost:8080/"
        }
      },
      "source": [
        "nome = input('Insira o seu nome: ')"
      ],
      "execution_count": null,
      "outputs": [
        {
          "output_type": "stream",
          "text": [
            "Insira o seu nome: Caio\n"
          ],
          "name": "stdout"
        }
      ]
    },
    {
      "cell_type": "code",
      "metadata": {
        "id": "qNw5F1bDfGA1",
        "outputId": "bde4d672-b9ec-4d34-91dc-c7ac6b174628",
        "colab": {
          "base_uri": "https://localhost:8080/"
        }
      },
      "source": [
        "nome = input('Insira o seu nome: ')\n",
        "idade = int(input('Insira sua idade: '))\n",
        "\n",
        "print('O', nome, 'tem', idade, 'anos')"
      ],
      "execution_count": null,
      "outputs": [
        {
          "output_type": "stream",
          "text": [
            "Insira o seu nome: Caio\n",
            "Insira sua idade: 21\n",
            "O Caio tem 21 anos\n"
          ],
          "name": "stdout"
        }
      ]
    },
    {
      "cell_type": "code",
      "metadata": {
        "id": "P8e3Xq5afXs9",
        "outputId": "f80f6404-e952-422d-ac21-36621fad7189",
        "colab": {
          "base_uri": "https://localhost:8080/"
        }
      },
      "source": [
        "print('Seja bem vindo a minha calculadora de multiplicação!')\n",
        "\n",
        "valor1 = float(input('Insira o seu primeiro numero: '))\n",
        "valor2 = float(input('Insira o seu segundo numero:  '))\n",
        "\n",
        "multiplicação = valor1 * valor2\n",
        "\n",
        "print('O resultado da multiplicação entre', valor1, 'e', valor2, 'é de', multiplicação)"
      ],
      "execution_count": null,
      "outputs": [
        {
          "output_type": "stream",
          "text": [
            "Seja bem vindo a minha calculadora de multiplicação!\n",
            "Insira o seu primeiro numero: 5\n",
            "Insira o seu segundo numero:  2\n",
            "O resultado da multiplicação entre 5.0 e 2.0 é de 10.0\n"
          ],
          "name": "stdout"
        }
      ]
    },
    {
      "cell_type": "markdown",
      "metadata": {
        "id": "pZT3bEQwiR7R"
      },
      "source": [
        "# Elementos em Listas\n",
        "\n",
        "  "
      ]
    },
    {
      "cell_type": "code",
      "metadata": {
        "id": "mbzD9U2If6xJ"
      },
      "source": [
        "lista_animais = ['Cachorro', 'Gato', 'Coelho', 'Furão', 'Pássaro', 'Peixe']\n",
        "# Posição           1          2         3         4         5         6\n",
        "# Indice            0          1         2         3         4         5"
      ],
      "execution_count": null,
      "outputs": []
    },
    {
      "cell_type": "code",
      "metadata": {
        "id": "Srdw35XFirVd"
      },
      "source": [
        "furao = lista_animais[3]\n",
        "gato = lista_animais[1]"
      ],
      "execution_count": null,
      "outputs": []
    },
    {
      "cell_type": "code",
      "metadata": {
        "id": "QNM4nLnaiyCu",
        "outputId": "fcbab48e-6941-4980-e3c0-84edabaaf3e2",
        "colab": {
          "base_uri": "https://localhost:8080/"
        }
      },
      "source": [
        "print('A Shura é uma', furao)"
      ],
      "execution_count": null,
      "outputs": [
        {
          "output_type": "stream",
          "text": [
            "A Shura é uma Furão\n"
          ],
          "name": "stdout"
        }
      ]
    },
    {
      "cell_type": "code",
      "metadata": {
        "id": "QY9I632Ai3P2",
        "outputId": "41377557-5057-4f41-f493-0ce7e250e83e",
        "colab": {
          "base_uri": "https://localhost:8080/"
        }
      },
      "source": [
        "print('o Doctor é um', gato)"
      ],
      "execution_count": null,
      "outputs": [
        {
          "output_type": "stream",
          "text": [
            "o Doctor é um Gato\n"
          ],
          "name": "stdout"
        }
      ]
    },
    {
      "cell_type": "code",
      "metadata": {
        "id": "40AWGFHFjA1v"
      },
      "source": [
        ""
      ],
      "execution_count": null,
      "outputs": []
    }
  ]
}