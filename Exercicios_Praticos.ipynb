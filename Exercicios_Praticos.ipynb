{
  "nbformat": 4,
  "nbformat_minor": 0,
  "metadata": {
    "colab": {
      "name": "Exercicios Praticos.ipynb",
      "provenance": []
    },
    "kernelspec": {
      "name": "python3",
      "display_name": "Python 3"
    }
  },
  "cells": [
    {
      "cell_type": "markdown",
      "metadata": {
        "id": "3hnVZgEy-ABX"
      },
      "source": [
        "# Prática"
      ]
    },
    {
      "cell_type": "code",
      "metadata": {
        "id": "vwTeNbJnPMFe",
        "outputId": "c8f8212c-343f-4cc4-83eb-b0b85a3ecea1",
        "colab": {
          "base_uri": "https://localhost:8080/"
        }
      },
      "source": [
        "nome = 'caio'\n",
        "print(nome)"
      ],
      "execution_count": null,
      "outputs": [
        {
          "output_type": "stream",
          "text": [
            "caio\n"
          ],
          "name": "stdout"
        }
      ]
    },
    {
      "cell_type": "code",
      "metadata": {
        "id": "5lDZqWs4PmpU"
      },
      "source": [
        "nome1 = 'Caio'\n",
        "nome2 = 'Felipe'\n",
        "nome3 = 'Edgar'"
      ],
      "execution_count": 18,
      "outputs": []
    },
    {
      "cell_type": "code",
      "metadata": {
        "id": "U64yJiyiPysb",
        "outputId": "ae1aef7d-cadd-420d-bb1c-416f71f66f63",
        "colab": {
          "base_uri": "https://localhost:8080/",
          "height": 34
        }
      },
      "source": [
        "print(nome1, 'é amigo de', nome2, 'que conhece', nome3)"
      ],
      "execution_count": 19,
      "outputs": [
        {
          "output_type": "stream",
          "text": [
            "Caio é amigo de Felipe que conhece Edgar\n"
          ],
          "name": "stdout"
        }
      ]
    },
    {
      "cell_type": "code",
      "metadata": {
        "id": "YNI5qiJCQFLG",
        "outputId": "22259f83-fcc3-4e8e-acca-ba3f0f4fe1db",
        "colab": {
          "base_uri": "https://localhost:8080/"
        }
      },
      "source": [
        "idade = 21\n",
        "idade + 1"
      ],
      "execution_count": null,
      "outputs": [
        {
          "output_type": "execute_result",
          "data": {
            "text/plain": [
              "22"
            ]
          },
          "metadata": {
            "tags": []
          },
          "execution_count": 10
        }
      ]
    },
    {
      "cell_type": "code",
      "metadata": {
        "id": "bxYXDw-uREJz",
        "outputId": "fa31c4b1-7364-4837-cb8d-5513d28584e4",
        "colab": {
          "base_uri": "https://localhost:8080/"
        }
      },
      "source": [
        "idade"
      ],
      "execution_count": null,
      "outputs": [
        {
          "output_type": "execute_result",
          "data": {
            "text/plain": [
              "21"
            ]
          },
          "metadata": {
            "tags": []
          },
          "execution_count": 11
        }
      ]
    },
    {
      "cell_type": "code",
      "metadata": {
        "id": "2xHXMT1BRFWc"
      },
      "source": [
        "def mais_um_ano(idade):\n",
        "  mais_um_ano = idade\n",
        "  print('tá dentro dessa função')\n",
        "  return idade + 1"
      ],
      "execution_count": 23,
      "outputs": []
    },
    {
      "cell_type": "code",
      "metadata": {
        "id": "emGTpE77Rhir",
        "outputId": "729f1780-3237-4057-b122-bc37829d43fc",
        "colab": {
          "base_uri": "https://localhost:8080/",
          "height": 51
        }
      },
      "source": [
        "mais_um_ano(21)"
      ],
      "execution_count": 25,
      "outputs": [
        {
          "output_type": "stream",
          "text": [
            "tá dentro dessa função\n"
          ],
          "name": "stdout"
        },
        {
          "output_type": "execute_result",
          "data": {
            "text/plain": [
              "22"
            ]
          },
          "metadata": {
            "tags": []
          },
          "execution_count": 25
        }
      ]
    },
    {
      "cell_type": "code",
      "metadata": {
        "id": "nHAT7Ra9R87S"
      },
      "source": [
        "filme1 = 'Toy Story'\n",
        "filme2 = 'A Xuxa contra o Baixa Astral'\n",
        "filme3 = 'Matrix 1'"
      ],
      "execution_count": 78,
      "outputs": []
    },
    {
      "cell_type": "code",
      "metadata": {
        "id": "mkANB2bASms7",
        "outputId": "a6999af1-b5b2-48cf-f9cf-1558163934dd",
        "colab": {
          "base_uri": "https://localhost:8080/"
        }
      },
      "source": [
        "filmes = ['Toy Story', 'Xuxa contra o Baixo Astral', 'Matrix']\n",
        "filmes\n"
      ],
      "execution_count": null,
      "outputs": [
        {
          "output_type": "execute_result",
          "data": {
            "text/plain": [
              "['Toy Story', 'Xuxa contra o Baixo Astral', 'Matrix']"
            ]
          },
          "metadata": {
            "tags": []
          },
          "execution_count": 19
        }
      ]
    },
    {
      "cell_type": "code",
      "metadata": {
        "id": "bjawzMFnSwDL",
        "outputId": "b283c6d6-298d-4f57-f463-3a8a10feec50",
        "colab": {
          "base_uri": "https://localhost:8080/",
          "height": 34
        }
      },
      "source": [
        "filmes = [filme1, filme2, filme3]\n",
        "filmes"
      ],
      "execution_count": 79,
      "outputs": [
        {
          "output_type": "execute_result",
          "data": {
            "text/plain": [
              "['Toy Story', 'A Xuxa contra o Baixa Astral', 'Matrix 1']"
            ]
          },
          "metadata": {
            "tags": []
          },
          "execution_count": 79
        }
      ]
    },
    {
      "cell_type": "code",
      "metadata": {
        "id": "MA352Mo2S2hn",
        "outputId": "76570a62-b7bd-4ee7-9cde-0ed65b71b4ff",
        "colab": {
          "base_uri": "https://localhost:8080/"
        }
      },
      "source": [
        "list()"
      ],
      "execution_count": null,
      "outputs": [
        {
          "output_type": "execute_result",
          "data": {
            "text/plain": [
              "[]"
            ]
          },
          "metadata": {
            "tags": []
          },
          "execution_count": 22
        }
      ]
    },
    {
      "cell_type": "code",
      "metadata": {
        "id": "edFIOdmjTD2A"
      },
      "source": [
        "def imprime_filmes(filmes):\n",
        "  print('A lista de filmes que eu tenho disponível é: ')\n",
        "  print(filmes)"
      ],
      "execution_count": 80,
      "outputs": []
    },
    {
      "cell_type": "code",
      "metadata": {
        "id": "tQb5RvBpTWpc",
        "outputId": "cc0c2c04-27ff-4a07-dab9-605691486138",
        "colab": {
          "base_uri": "https://localhost:8080/",
          "height": 51
        }
      },
      "source": [
        "imprime_filmes(filmes)"
      ],
      "execution_count": 81,
      "outputs": [
        {
          "output_type": "stream",
          "text": [
            "A lista de filmes que eu tenho disponível é: \n",
            "['Toy Story', 'A Xuxa contra o Baixa Astral', 'Matrix 1']\n"
          ],
          "name": "stdout"
        }
      ]
    },
    {
      "cell_type": "code",
      "metadata": {
        "id": "ybOL_s7qTZZT",
        "outputId": "679e8461-f727-47b2-94a3-a21b8b28011f",
        "colab": {
          "base_uri": "https://localhost:8080/",
          "height": 35
        }
      },
      "source": [
        "filmes[0]"
      ],
      "execution_count": 82,
      "outputs": [
        {
          "output_type": "execute_result",
          "data": {
            "application/vnd.google.colaboratory.intrinsic+json": {
              "type": "string"
            },
            "text/plain": [
              "'Toy Story'"
            ]
          },
          "metadata": {
            "tags": []
          },
          "execution_count": 82
        }
      ]
    },
    {
      "cell_type": "code",
      "metadata": {
        "id": "CMt3aw7-Tq8s",
        "outputId": "a917e644-c56e-430e-b7b6-359c96cb419d",
        "colab": {
          "base_uri": "https://localhost:8080/"
        }
      },
      "source": [
        "imprime_filmes(0)"
      ],
      "execution_count": null,
      "outputs": [
        {
          "output_type": "stream",
          "text": [
            "A lista de filmes que eu tenho disponível\n",
            "0\n"
          ],
          "name": "stdout"
        }
      ]
    },
    {
      "cell_type": "code",
      "metadata": {
        "id": "9mW04hy-Tt7s",
        "outputId": "c2fb417d-c1d1-4eb7-a787-d90be1a643e8",
        "colab": {
          "base_uri": "https://localhost:8080/",
          "height": 35
        }
      },
      "source": [
        "filmes[-1]"
      ],
      "execution_count": null,
      "outputs": [
        {
          "output_type": "execute_result",
          "data": {
            "application/vnd.google.colaboratory.intrinsic+json": {
              "type": "string"
            },
            "text/plain": [
              "'Matrix 1'"
            ]
          },
          "metadata": {
            "tags": []
          },
          "execution_count": 28
        }
      ]
    },
    {
      "cell_type": "code",
      "metadata": {
        "id": "j0XtTncuT-ok",
        "outputId": "4aefe0b4-ed78-46db-a507-a904e1d121c7",
        "colab": {
          "base_uri": "https://localhost:8080/",
          "height": 35
        }
      },
      "source": [
        "filmes[-2]"
      ],
      "execution_count": null,
      "outputs": [
        {
          "output_type": "execute_result",
          "data": {
            "application/vnd.google.colaboratory.intrinsic+json": {
              "type": "string"
            },
            "text/plain": [
              "'A Xuxa contra o Baixa Astral'"
            ]
          },
          "metadata": {
            "tags": []
          },
          "execution_count": 29
        }
      ]
    },
    {
      "cell_type": "code",
      "metadata": {
        "id": "fWYmeVvzUAf8",
        "outputId": "024ea69d-9186-4d8f-d387-9c1da2560542",
        "colab": {
          "base_uri": "https://localhost:8080/"
        }
      },
      "source": [
        "filmes[1 : ]"
      ],
      "execution_count": null,
      "outputs": [
        {
          "output_type": "execute_result",
          "data": {
            "text/plain": [
              "['A Xuxa contra o Baixa Astral', 'Matrix 1']"
            ]
          },
          "metadata": {
            "tags": []
          },
          "execution_count": 33
        }
      ]
    },
    {
      "cell_type": "code",
      "metadata": {
        "id": "-kjJnD2qUHkU",
        "outputId": "919f500b-90be-44a6-ed9f-02e48911f338",
        "colab": {
          "base_uri": "https://localhost:8080/"
        }
      },
      "source": [
        "for filme in filmes:\n",
        "  print(filme)"
      ],
      "execution_count": null,
      "outputs": [
        {
          "output_type": "stream",
          "text": [
            "Toy Story 17\n",
            "A Xuxa contra o Baixa Astral\n",
            "Matrix 1\n"
          ],
          "name": "stdout"
        }
      ]
    },
    {
      "cell_type": "markdown",
      "metadata": {
        "id": "rpdojT9z8tYn"
      },
      "source": [
        "# Cálculo da Média\n"
      ]
    },
    {
      "cell_type": "code",
      "metadata": {
        "id": "EGGbRFtT8xlC",
        "outputId": "0a5c14e0-ddb6-4b55-8c55-df17d8b4c4a4",
        "colab": {
          "base_uri": "https://localhost:8080/",
          "height": 34
        }
      },
      "source": [
        "nota1 = 8\n",
        "nota2 = 8.5\n",
        "\n",
        "def verificar_aprovação():\n",
        "  media = calcular_media([nota1, nota2])\n",
        "\n",
        "  if media >= 7:\n",
        "    print('O aluno foi aprovado!')\n",
        "  else:\n",
        "    print('O aluno foi reprovado!')\n",
        "\n",
        "def calcular_media(notas):\n",
        "  quantidade = len(notas)\n",
        "\n",
        "  soma = 0\n",
        "  for nota in notas:\n",
        "    soma = soma + nota\n",
        "\n",
        "  media = soma / quantidade\n",
        "  return media\n",
        "\n",
        "verificar_aprovação()"
      ],
      "execution_count": 26,
      "outputs": [
        {
          "output_type": "stream",
          "text": [
            "O aluno foi aprovado!\n"
          ],
          "name": "stdout"
        }
      ]
    },
    {
      "cell_type": "code",
      "metadata": {
        "id": "tPYUsRLE90LN"
      },
      "source": [
        ""
      ],
      "execution_count": null,
      "outputs": []
    },
    {
      "cell_type": "markdown",
      "metadata": {
        "id": "c_q9_LZu-HGR"
      },
      "source": [
        "# Lista de Compras"
      ]
    },
    {
      "cell_type": "code",
      "metadata": {
        "id": "V6TmMHwJ-J15",
        "outputId": "9445219f-a7cf-49c4-e597-1c2defaa068c",
        "colab": {
          "base_uri": "https://localhost:8080/",
          "height": 425
        }
      },
      "source": [
        "frutas = ['Melancia', 'Manga', 'Tangerina', 'Uva', 'Morango']\n",
        "guloseimas = ['Bolacha', 'Chocolate', 'Salgadinho', 'Bala', 'Chiclete']\n",
        "comidas = ['Arroz', 'Feijão', 'Carne', 'Legumes', 'Verduras']\n",
        "bebidas = ['Suco', 'Refrigerante', 'Água', 'Cerveja', 'Leite']\n",
        "\n",
        "categorias = ['Frutas', 'Guloseimas', 'Comidas', 'Bebidas']\n",
        "compras = [frutas, guloseimas, comidas, bebidas]\n",
        "\n",
        "for indice, categoria in enumerate(categorias):\n",
        "  print('Você precisa comprar', len(compras[indice]), categoria+':')\n",
        "  for compra in compras [indice]:\n",
        "    print('-', compra)"
      ],
      "execution_count": 29,
      "outputs": [
        {
          "output_type": "stream",
          "text": [
            "Você precisa comprar 5 Frutas:\n",
            "- Melancia\n",
            "- Manga\n",
            "- Tangerina\n",
            "- Uva\n",
            "- Morango\n",
            "Você precisa comprar 5 Guloseimas:\n",
            "- Bolacha\n",
            "- Chocolate\n",
            "- Salgadinho\n",
            "- Bala\n",
            "- Chiclete\n",
            "Você precisa comprar 5 Comidas:\n",
            "- Arroz\n",
            "- Feijão\n",
            "- Carne\n",
            "- Legumes\n",
            "- Verduras\n",
            "Você precisa comprar 5 Bebidas:\n",
            "- Suco\n",
            "- Refrigerante\n",
            "- Água\n",
            "- Cerveja\n",
            "- Leite\n"
          ],
          "name": "stdout"
        }
      ]
    },
    {
      "cell_type": "code",
      "metadata": {
        "id": "DgkUgT9E_aS-"
      },
      "source": [
        ""
      ],
      "execution_count": null,
      "outputs": []
    },
    {
      "cell_type": "markdown",
      "metadata": {
        "id": "Wr93ICTEARbx"
      },
      "source": [
        "# Autoescola"
      ]
    },
    {
      "cell_type": "code",
      "metadata": {
        "id": "Y9TqyHxGAv1b"
      },
      "source": [
        "def validar_idade(idade):\n",
        "  if idade < 18:\n",
        "    print('\\nDesculpe, mas você não está apto para prosseguir,', nome)\n",
        "    return False\n",
        "  else:\n",
        "    print('\\nÓtimo! Podemos prosseguir,', nome)\n",
        "    return True\n",
        "\n",
        "def escolher_carta():\n",
        "  print('Qual das opções você gostaria:')\n",
        "  print('1 - Carro\\n2 - Moto\\n3 - Carro e Moto')\n",
        "  return int(input())\n",
        "\n",
        "def calcular_preço(escolha):\n",
        "  valor_carro = 1500\n",
        "  valor_moto = 1000\n",
        "\n",
        "  if escolha == 1:\n",
        "    return valor_carro\n",
        "  elif escolha == 2:\n",
        "    return valor_moto\n",
        "  else:\n",
        "    return valor_carro + valor_moto\n",
        "\n",
        "def desconto(valor):\n",
        "  return valor - (valor * 0.18)\n",
        "\n",
        "nome = input('Digite seu nome:  ')\n",
        "idade = int(input('Digite sua idade:  '))\n",
        "\n",
        "if validar_idade(idade):\n",
        "  escolha = escolher_carta()\n",
        "\n",
        "  print('\\nPerfeito! Vou calcular o valor')\n",
        "  valor = calcular_preço(escolha)\n",
        "\n",
        "  print('\\n'+nome, 'o valor total é de R$', valor)\n",
        "  print('Mas vou ver com meu gerente se posso dar um desconto...')\n",
        "  valor = desconto(valor)\n",
        "\n",
        "  print('\\nCom desconto eu consigo fazer por R$', valor)\n",
        "\n",
        "  print('Te interessa?\\n1 - Sim\\n2 - Não')\n",
        "  interesse = int(input()) \n",
        "  if interesse == 1:\n",
        "      print('\\nPerfeito! Começaremos amanhã!')\n",
        "  else:\n",
        "      print('\\nTudo bem :(\\nMe avise se mudar de ideia.')"
      ],
      "execution_count": null,
      "outputs": []
    },
    {
      "cell_type": "markdown",
      "metadata": {
        "id": "ZQqfJj7zLem7"
      },
      "source": [
        "# Animais"
      ]
    },
    {
      "cell_type": "code",
      "metadata": {
        "id": "tmSI49BJCK_Q",
        "outputId": "ba5cf723-70c1-435b-80d7-2b5b4ae02575",
        "colab": {
          "base_uri": "https://localhost:8080/",
          "height": 0
        }
      },
      "source": [
        "animais = []\n",
        "\n",
        "animal = input('Digite o nome do seu animal ou 0 se caso não tiver um:  ')\n",
        "\n",
        "while animal != '0':\n",
        "  especie = input('Digite a especie desse animal: ')\n",
        "  animais.append([animal, especie])\n",
        "  animal = input('Se tiver mais animais, digite o nome dele.\\nOu digite 0 se caso não houver outro')\n",
        "\n",
        "if len(animais) == 0:\n",
        "  print('\\nVocê não tem animais')\n",
        "else:\n",
        "  print('Você tem os seguintes animais: ')\n",
        "  for animal in animais:\n",
        "    print('- Nome:  ', animal[0], '| Espécie:', animal[1])"
      ],
      "execution_count": 54,
      "outputs": [
        {
          "output_type": "stream",
          "text": [
            "Digite o nome do seu animal ou 0 se caso não tiver um:  Amora\n",
            "Digite a especie desse animal: Cachorro\n",
            "Se tiver mais animais, digite o nome dele.\n",
            "Ou digite 0 se caso não houver outro0\n",
            "Você tem os seguintes animais: \n",
            "- Nome:   Amora | Espécie: Cachorro\n"
          ],
          "name": "stdout"
        }
      ]
    },
    {
      "cell_type": "code",
      "metadata": {
        "id": "sWNFCXAEGg8G"
      },
      "source": [
        ""
      ],
      "execution_count": null,
      "outputs": []
    },
    {
      "cell_type": "markdown",
      "metadata": {
        "id": "-J7yGKXjLjfy"
      },
      "source": [
        "# Tempo e clima"
      ]
    },
    {
      "cell_type": "code",
      "metadata": {
        "id": "zzhOA3hSLlfd",
        "outputId": "d8ed5b56-34f1-45d4-f4e6-712a37e47173",
        "colab": {
          "base_uri": "https://localhost:8080/",
          "height": 0
        }
      },
      "source": [
        "horario = 'tarde'\n",
        "clima = 'chuvoso'\n",
        "temperatura = 'quente'\n",
        "\n",
        "if horario == 'manhã' or horario == 'tarde':\n",
        "  if clima == 'ensolarado' and temperatura == 'quente':\n",
        "    print('Uma piscina cairia bem')\n",
        "\n",
        "  if (clima == 'ensolarado' or clima == 'nublado') and (temperatura == 'amena' or temperatura == 'frio'):\n",
        "    print('Seria legal praticar algum esporte')\n",
        "\n",
        "  if clima == 'chuvoso':\n",
        "    print ('Aproveite para treinar seu Python')\n",
        "else:\n",
        "  if clima == 'chuvoso':\n",
        "    print('Que tal um filme, série ou jogatina?')\n",
        "  else:\n",
        "    print('Um jantar fora parece interessante...')"
      ],
      "execution_count": 70,
      "outputs": [
        {
          "output_type": "stream",
          "text": [
            "Aproveite para treinar seu Python\n"
          ],
          "name": "stdout"
        }
      ]
    },
    {
      "cell_type": "code",
      "metadata": {
        "id": "ItDVc_eiMeUE"
      },
      "source": [
        ""
      ],
      "execution_count": null,
      "outputs": []
    },
    {
      "cell_type": "markdown",
      "metadata": {
        "id": "pSUgew_GNi3W"
      },
      "source": [
        "# Calculo de Notas"
      ]
    },
    {
      "cell_type": "code",
      "metadata": {
        "id": "d4lD1dLF0IlI"
      },
      "source": [
        "nome = input('Insira seu nome')\n",
        "\n",
        "nota1 = float(input('Sua primeira nota: '))\n",
        "nota2 = float(input('Sua segunda nota:  '))\n",
        "\n",
        "print('Olá', nome, 'suas notas foram: ')\n",
        "print(nota1, 'e', nota2)\n",
        "\n",
        "soma = nota1 + nota2\n",
        "media = soma / 2\n",
        "\n",
        "print('Sua média é', media)"
      ],
      "execution_count": null,
      "outputs": []
    }
  ]
}